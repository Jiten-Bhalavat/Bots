{
 "cells": [
  {
   "cell_type": "code",
   "execution_count": 1,
   "metadata": {},
   "outputs": [],
   "source": [
    "import os\n",
    "import openai\n",
    "\n",
    "from dotenv import load_dotenv, find_dotenv\n",
    "_ = load_dotenv(find_dotenv()) # read local .env file\n",
    "\n",
    "openai.api_key  = os.environ['OPENAI_API_KEY']"
   ]
  },
  {
   "cell_type": "code",
   "execution_count": 2,
   "metadata": {},
   "outputs": [],
   "source": [
    "from llama_index import VectorStoreIndex, SimpleDirectoryReader\n",
    "from llama_index.text_splitter import SentenceSplitter\n"
   ]
  },
  {
   "cell_type": "code",
   "execution_count": 3,
   "metadata": {},
   "outputs": [],
   "source": [
    "def load_documents(file_path, num_pages=None):\n",
    "  if num_pages:\n",
    "    documents = SimpleDirectoryReader(input_files=[file_path]).load_data()[:num_pages]\n",
    "  else:\n",
    "    documents = SimpleDirectoryReader(input_files=[file_path]).load_data()\n",
    "  return documents\n",
    "\n",
    "def create_nodes(documents, chunk_size=2000, chunk_overlap=450):\n",
    "  node_parser = SentenceSplitter(chunk_size=chunk_size, chunk_overlap=chunk_overlap)\n",
    "  nodes = node_parser.get_nodes_from_documents(documents)\n",
    "  return nodes\n",
    "\n",
    "\n",
    "# load documents\n",
    "documents1 = load_documents(\"E:\\Plutomen\\Pdf Data\\M-Q-CM-50 MODIFICATION IN CONTROLLER ASSY EPS (1).PDF\")\n",
    "# documents2 = load_documents(\"dense_x_retrieval.pdf\", 9)\n",
    "# documents3 = load_documents(\"llama_beyond_english.pdf\", 7)\n",
    "\n",
    "# create nodes\n",
    "nodes1 = create_nodes(documents1)\n",
    "# nodes2 = create_nodes(documents2)\n",
    "# nodes3 = create_nodes(documents3)\n",
    "\n"
   ]
  },
  {
   "cell_type": "code",
   "execution_count": 7,
   "metadata": {},
   "outputs": [
    {
     "name": "stdout",
     "output_type": "stream",
     "text": [
      "[TextNode(id_='ef9a9a7e-053b-44a2-904f-6c70c0a3f76f', embedding=None, metadata={'page_label': '1', 'file_name': 'M-Q-CM-50 MODIFICATION IN CONTROLLER ASSY EPS (1).PDF', 'file_path': 'E:\\\\Plutomen\\\\Pdf Data\\\\M-Q-CM-50 MODIFICATION IN CONTROLLER ASSY EPS (1).PDF', 'file_type': 'application/pdf', 'file_size': 413985, 'creation_date': '2023-12-22', 'last_modified_date': '2023-12-22', 'last_accessed_date': '2024-02-16'}, excluded_embed_metadata_keys=['file_name', 'file_type', 'file_size', 'creation_date', 'last_modified_date', 'last_accessed_date'], excluded_llm_metadata_keys=['file_name', 'file_type', 'file_size', 'creation_date', 'last_modified_date', 'last_accessed_date'], relationships={<NodeRelationship.SOURCE: '1'>: RelatedNodeInfo(node_id='135288db-db77-4032-8b28-cfebf7e13c78', node_type=<ObjectType.DOCUMENT: '4'>, metadata={'page_label': '1', 'file_name': 'M-Q-CM-50 MODIFICATION IN CONTROLLER ASSY EPS (1).PDF', 'file_path': 'E:\\\\Plutomen\\\\Pdf Data\\\\M-Q-CM-50 MODIFICATION IN CONTROLLER ASSY EPS (1).PDF', 'file_type': 'application/pdf', 'file_size': 413985, 'creation_date': '2023-12-22', 'last_modified_date': '2023-12-22', 'last_accessed_date': '2024-02-16'}, hash='32a8bb2812da5cce15a2f91c8d39b207062f02d4c4bee8247624a2844cf2cf2f'), <NodeRelationship.NEXT: '3'>: RelatedNodeInfo(node_id='f088320e-4fdc-4c27-a4ec-76975bff0064', node_type=<ObjectType.TEXT: '1'>, metadata={}, hash='06491ed1568a8a4968dedcd28ae2926e319cdd57fb52f98ba0bbba6b6f3663ff')}, text='MARUTI  SUZUKI  INDIA  LIMITED  \\nTECHNICAL AND CUSTOMER RELATIONS  \\nPALAM -GURGAON  ROAD,  GURGAON  - 122 015, HARYANA,  INDIA    \\n   \\nSUBJECT  : MODIFICATION IN CONTROLLER ASSY, EPS  \\nAPPLICABLE MODEL  : SWIFT, SWIFT DZIRE , ERTIGA  & ERTIGA (SHVS)  \\nMODEL CODE  : AZI412 /AZI412N/AZI413D /AZI 413N/AVI414/AVI413D/ \\nAVI413D (SHVS ) \\n \\nThis Service Bulletin is to inform about the  modification done in Controller Assy, EPS in Swift, S wift Dzire, \\nErtiga & Ertiga (SHVS).  \\n \\nCONDITION  \\n \\nIn some cases, customer might report for  power steering warning lamp glowing , immediately after starting \\nthe vehicle, resulting in hard steering operation . During diagnosis D TC – C1113 will be observed in vehicle .  \\n \\nCORRECTION  \\n \\nModification has been  done in the Controller Assy, EPS.  \\n \\nPART INFORMATION  \\n                  \\n   \\nISSUE  NO M-Q-CM-50 \\nDATE  12-JUL-2019  \\nPAGE 01 of 02  \\nMODEL  PART NAME  OLD PART  \\nNUMBER  NEW PART \\nNUMBER  \\nAZI412/AZI412N/AZI413D/AZ I413N  \\nCONTROLLER \\nASSY, EPS  38720M74L15  38720M74L16  \\nAVI414/AVI413D  38720M60M16  38720M60M17  \\nAVI413D (SHVS ) 38720M60M21  38720M60M30  \\nMaster copy  should  be retained  in your  records.  \\nWorks  Manager to explain  all concerned  as mentioned  in the bulletin.  \\nWorks  \\nManager  Customer  Care  \\nManager  Service  \\nAdvisor  Supervisor  Technical  \\nAdvisor  Spare  Parts  \\nManager  \\nPrevious Bulletin  No. M-G-CM-49 dated  3-Jul-2019  has been sent to all Dealers,  MSMs and MSZs.  \\nG-02-01-01', start_char_idx=0, end_char_idx=1475, text_template='{metadata_str}\\n\\n{content}', metadata_template='{key}: {value}', metadata_seperator='\\n'), TextNode(id_='f088320e-4fdc-4c27-a4ec-76975bff0064', embedding=None, metadata={'page_label': '2', 'file_name': 'M-Q-CM-50 MODIFICATION IN CONTROLLER ASSY EPS (1).PDF', 'file_path': 'E:\\\\Plutomen\\\\Pdf Data\\\\M-Q-CM-50 MODIFICATION IN CONTROLLER ASSY EPS (1).PDF', 'file_type': 'application/pdf', 'file_size': 413985, 'creation_date': '2023-12-22', 'last_modified_date': '2023-12-22', 'last_accessed_date': '2024-02-16'}, excluded_embed_metadata_keys=['file_name', 'file_type', 'file_size', 'creation_date', 'last_modified_date', 'last_accessed_date'], excluded_llm_metadata_keys=['file_name', 'file_type', 'file_size', 'creation_date', 'last_modified_date', 'last_accessed_date'], relationships={<NodeRelationship.SOURCE: '1'>: RelatedNodeInfo(node_id='c005aa2f-d992-439a-8a27-bfaea2135f37', node_type=<ObjectType.DOCUMENT: '4'>, metadata={'page_label': '2', 'file_name': 'M-Q-CM-50 MODIFICATION IN CONTROLLER ASSY EPS (1).PDF', 'file_path': 'E:\\\\Plutomen\\\\Pdf Data\\\\M-Q-CM-50 MODIFICATION IN CONTROLLER ASSY EPS (1).PDF', 'file_type': 'application/pdf', 'file_size': 413985, 'creation_date': '2023-12-22', 'last_modified_date': '2023-12-22', 'last_accessed_date': '2024-02-16'}, hash='09e6f8c1d571c60d9ee5488cc9e544c5581a2dbdf525d654ba5362e0cf0ce6ce'), <NodeRelationship.PREVIOUS: '2'>: RelatedNodeInfo(node_id='ef9a9a7e-053b-44a2-904f-6c70c0a3f76f', node_type=<ObjectType.TEXT: '1'>, metadata={'page_label': '1', 'file_name': 'M-Q-CM-50 MODIFICATION IN CONTROLLER ASSY EPS (1).PDF', 'file_path': 'E:\\\\Plutomen\\\\Pdf Data\\\\M-Q-CM-50 MODIFICATION IN CONTROLLER ASSY EPS (1).PDF', 'file_type': 'application/pdf', 'file_size': 413985, 'creation_date': '2023-12-22', 'last_modified_date': '2023-12-22', 'last_accessed_date': '2024-02-16'}, hash='6cfcf403ea813f73931e9f6a83cdb1ae5a0a9ae90e5b92df905db161690137a7')}, text='MARUTI  SUZUKI  INDIA  LIMITED  \\nTECHNICAL AND CUSTOMER RELATIONS  \\nPALAM -GURGAON  ROAD,  GURGAON  - 122 015, HARYANA,  INDIA   \\n \\n      \\n \\n \\n \\n \\n \\n  \\n      COUNTERMEASURE FOR PRODUCTION (Cut -off VIN)  \\n \\n \\n       \\n \\n \\n \\n*For Old Swift, Old Swift Dzire, Old Ertiga & Old Ertiga (SHVS), cut -off VIN is not required as production \\nof these models has stopped.       \\n          \\n      FIELD CORRECTION  \\n \\n\\uf0b7    In case of customer complaint, vehicle has to be inspected and root cause to be identified.  \\n\\uf0b7    In case steering becoming hard just after EPS malfunction indicator lamp  glows  in cluster (DTC – \\nC1113), the n Controller Assy, EPS has to be replaced as per procedure in Service Manual.  \\n\\uf0b7    After replacement of the part, necessary road test to be perform ed to confirm elimination of the \\nproblem . \\n \\nNote:  If DTC C1113 is reported along with other DTCs, part is not to be replaced directly. Diagnosis has   \\nto be done as per Service Manual.  \\n \\n       This may be explained to all concerned in the workshop.  \\n \\n \\n Kapil Sharma  \\nDy. General Manager  \\n           Technical and Customer Relations (TCR)  \\n \\nAll Dealers/MSMs/MSZs:  - GM (Works) / Works  Manager / Spare  Parts  Manager    \\nISSUE  NO M-Q-CM-50 \\nDATE  12-JUL-2019  \\nPAGE 02 of 02  \\nModel Code  Model Name  Fuel Type  Cut-off VIN  \\nAZI412N   \\nDZIRE  \\n TOUR  PETROL  MA3EJKD1S00C10167  \\nAZI413N  DIESEL  MA3FJEB1S00C10213  \\nAZI412N (CNG)  CNG  MA3EJKD1S00C10017', start_char_idx=0, end_char_idx=1443, text_template='{metadata_str}\\n\\n{content}', metadata_template='{key}: {value}', metadata_seperator='\\n')]\n"
     ]
    }
   ],
   "source": [
    "print(nodes1)"
   ]
  },
  {
   "cell_type": "code",
   "execution_count": 16,
   "metadata": {},
   "outputs": [
    {
     "name": "stderr",
     "output_type": "stream",
     "text": [
      "100%|██████████| 2/2 [00:03<00:00,  1.82s/it]\n"
     ]
    }
   ],
   "source": [
    "from llama_index.llms import OpenAI\n",
    "from llama_index.evaluation import generate_question_context_pairs\n",
    "\n",
    "# web_search_queries qa template\n",
    "web_search_queries_qa_tmpl = \"\"\"\\\n",
    "Context information is below.\n",
    "\n",
    "---------------------\n",
    "{context_str}\n",
    "---------------------\n",
    "\n",
    "Given the context information and not prior knowledge. \\\n",
    "generate queries based on the below task. \\\n",
    "\n",
    "Task:\n",
    "Your task is to create {num_questions_per_chunk} Web search-like queries. \\\n",
    "Restrict the queries to the context information provided. \\\n",
    "\n",
    "Following is the explaination for Web search-like queries: \\\n",
    "Shortened queries similar to those commonly entered into a search engine\n",
    "An example query: Best retrieval concept\n",
    "\"\n",
    "\"\"\"\n",
    "llm = OpenAI(model='gpt-3.5-turbo-instruct', temperature=0.3)\n",
    "\n",
    "web_search_queries_single_document = generate_question_context_pairs(\n",
    "    nodes1, llm=llm, num_questions_per_chunk=5, qa_generate_prompt_tmpl = web_search_queries_qa_tmpl\n",
    ")\n"
   ]
  },
  {
   "cell_type": "code",
   "execution_count": 15,
   "metadata": {},
   "outputs": [
    {
     "data": {
      "text/plain": [
       "['How to modify Controller Assy, EPS in Maruti Suzuki Swift, Swift Dzire, Ertiga & Ertiga (SHVS)?',\n",
       " 'What is the cause and solution for power steering warning lamp glowing in Maruti Suzuki Swift, Swift Dzire, Ertiga & Ertiga (SHVS)?',\n",
       " '\"How to replace Controller Assy, EPS in Maruti Suzuki vehicles with DTC C1113?\"',\n",
       " '\"What is the cut-off VIN for Old Swift, Old Swift Dzire, Old Ertiga, and Old Ertiga (SHVS) models in Maruti Suzuki India Limited?\"']"
      ]
     },
     "execution_count": 15,
     "metadata": {},
     "output_type": "execute_result"
    }
   ],
   "source": [
    "# Web search queries\n",
    "queries = list(web_search_queries_single_document.queries.values())\n",
    "queries"
   ]
  },
  {
   "cell_type": "code",
   "execution_count": 17,
   "metadata": {},
   "outputs": [
    {
     "data": {
      "text/plain": [
       "['\"How to fix power steering warning lamp in Maruti Suzuki Swift?\"',\n",
       " '\"What is the modification in Controller Assy, EPS for Maruti Suzuki Ertiga?\"',\n",
       " '\"Where can I find the updated part number for the Controller Assy, EPS in Maruti Suzuki Swift Dzire?\"',\n",
       " '\"What is the cause of hard steering operation in Maruti Suzuki Ertiga (SHVS)?\"',\n",
       " '\"Are there any previous bulletins related to Controller Assy, EPS modification for Maruti Suzuki models?\"',\n",
       " '\"How to replace Controller Assy, EPS in Maruti Suzuki vehicles?\"',\n",
       " '\"What is the procedure for diagnosing DTC C1113 in Maruti Suzuki vehicles?\"',\n",
       " '\"How to identify the root cause of a customer complaint in Maruti Suzuki vehicles?\"',\n",
       " '\"What is the cut-off VIN for Old Swift, Old Swift Dzire, Old Ertiga, and Old Ertiga (SHVS) models in Maruti Suzuki vehicles?\"',\n",
       " '\"What is the necessary road test to confirm elimination of a problem after replacing a part in Maruti Suzuki vehicles?\"']"
      ]
     },
     "execution_count": 17,
     "metadata": {},
     "output_type": "execute_result"
    }
   ],
   "source": [
    "# Web search queries\n",
    "queries = list(web_search_queries_single_document.queries.values())\n",
    "queries"
   ]
  },
  {
   "cell_type": "code",
   "execution_count": null,
   "metadata": {},
   "outputs": [],
   "source": []
  }
 ],
 "metadata": {
  "kernelspec": {
   "display_name": "venv",
   "language": "python",
   "name": "python3"
  },
  "language_info": {
   "codemirror_mode": {
    "name": "ipython",
    "version": 3
   },
   "file_extension": ".py",
   "mimetype": "text/x-python",
   "name": "python",
   "nbconvert_exporter": "python",
   "pygments_lexer": "ipython3",
   "version": "3.10.4"
  }
 },
 "nbformat": 4,
 "nbformat_minor": 2
}
